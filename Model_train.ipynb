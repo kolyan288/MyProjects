{
 "cells": [
  {
   "cell_type": "code",
   "execution_count": 1,
   "id": "6803ea90-8602-4b99-bdde-ffe329568029",
   "metadata": {},
   "outputs": [],
   "source": [
    "from keras.layers import Dense\n",
    "from keras import models\n",
    "from sklearn.model_selection import train_test_split\n",
    "from sklearn.preprocessing import StandardScaler\n",
    "from keras.callbacks import EarlyStopping, ModelCheckpoint\n",
    "import matplotlib.pyplot as plt\n",
    "import numpy as np\n",
    "import pandas as pd\n",
    "from joblib import dump"
   ]
  },
  {
   "cell_type": "code",
   "execution_count": 2,
   "id": "ae4720c7-ac55-4c0a-bb1c-e46ff7d91f1b",
   "metadata": {},
   "outputs": [
    {
     "data": {
      "text/html": [
       "<div>\n",
       "<style scoped>\n",
       "    .dataframe tbody tr th:only-of-type {\n",
       "        vertical-align: middle;\n",
       "    }\n",
       "\n",
       "    .dataframe tbody tr th {\n",
       "        vertical-align: top;\n",
       "    }\n",
       "\n",
       "    .dataframe thead th {\n",
       "        text-align: right;\n",
       "    }\n",
       "</style>\n",
       "<table border=\"1\" class=\"dataframe\">\n",
       "  <thead>\n",
       "    <tr style=\"text-align: right;\">\n",
       "      <th></th>\n",
       "      <th>Gender</th>\n",
       "      <th>Height</th>\n",
       "      <th>Weight</th>\n",
       "    </tr>\n",
       "  </thead>\n",
       "  <tbody>\n",
       "    <tr>\n",
       "      <th>0</th>\n",
       "      <td>1</td>\n",
       "      <td>187.571423</td>\n",
       "      <td>109.720985</td>\n",
       "    </tr>\n",
       "    <tr>\n",
       "      <th>1</th>\n",
       "      <td>1</td>\n",
       "      <td>174.706036</td>\n",
       "      <td>73.622732</td>\n",
       "    </tr>\n",
       "    <tr>\n",
       "      <th>2</th>\n",
       "      <td>1</td>\n",
       "      <td>188.239668</td>\n",
       "      <td>96.497550</td>\n",
       "    </tr>\n",
       "    <tr>\n",
       "      <th>3</th>\n",
       "      <td>1</td>\n",
       "      <td>182.196685</td>\n",
       "      <td>99.809504</td>\n",
       "    </tr>\n",
       "    <tr>\n",
       "      <th>4</th>\n",
       "      <td>1</td>\n",
       "      <td>177.499761</td>\n",
       "      <td>93.598619</td>\n",
       "    </tr>\n",
       "    <tr>\n",
       "      <th>...</th>\n",
       "      <td>...</td>\n",
       "      <td>...</td>\n",
       "      <td>...</td>\n",
       "    </tr>\n",
       "    <tr>\n",
       "      <th>9995</th>\n",
       "      <td>0</td>\n",
       "      <td>168.078536</td>\n",
       "      <td>62.041159</td>\n",
       "    </tr>\n",
       "    <tr>\n",
       "      <th>9996</th>\n",
       "      <td>0</td>\n",
       "      <td>170.350573</td>\n",
       "      <td>77.504315</td>\n",
       "    </tr>\n",
       "    <tr>\n",
       "      <th>9997</th>\n",
       "      <td>0</td>\n",
       "      <td>162.224700</td>\n",
       "      <td>58.275377</td>\n",
       "    </tr>\n",
       "    <tr>\n",
       "      <th>9998</th>\n",
       "      <td>0</td>\n",
       "      <td>175.346978</td>\n",
       "      <td>74.322166</td>\n",
       "    </tr>\n",
       "    <tr>\n",
       "      <th>9999</th>\n",
       "      <td>0</td>\n",
       "      <td>157.338385</td>\n",
       "      <td>51.550324</td>\n",
       "    </tr>\n",
       "  </tbody>\n",
       "</table>\n",
       "<p>10000 rows × 3 columns</p>\n",
       "</div>"
      ],
      "text/plain": [
       "      Gender      Height      Weight\n",
       "0          1  187.571423  109.720985\n",
       "1          1  174.706036   73.622732\n",
       "2          1  188.239668   96.497550\n",
       "3          1  182.196685   99.809504\n",
       "4          1  177.499761   93.598619\n",
       "...      ...         ...         ...\n",
       "9995       0  168.078536   62.041159\n",
       "9996       0  170.350573   77.504315\n",
       "9997       0  162.224700   58.275377\n",
       "9998       0  175.346978   74.322166\n",
       "9999       0  157.338385   51.550324\n",
       "\n",
       "[10000 rows x 3 columns]"
      ]
     },
     "execution_count": 2,
     "metadata": {},
     "output_type": "execute_result"
    }
   ],
   "source": [
    "df = pd.read_csv('dataset.csv', sep=',')\n",
    "df['Height'] = df['Height'] * 2.54\n",
    "df['Weight'] = df['Weight'] * 0.453592\n",
    "df.replace(['Female', 'Male'], [0, 1], inplace=True)\n",
    "df"
   ]
  },
  {
   "cell_type": "code",
   "execution_count": 3,
   "id": "df59ecc5-8f2f-4750-8e1a-6d70355dca86",
   "metadata": {},
   "outputs": [],
   "source": [
    "scaler = StandardScaler()"
   ]
  },
  {
   "cell_type": "code",
   "execution_count": 4,
   "id": "9871091a-f9c0-4340-ab7e-6a9995a3c0e7",
   "metadata": {},
   "outputs": [],
   "source": [
    "X = scaler.fit_transform(df.drop(['Gender'], axis=1))"
   ]
  },
  {
   "cell_type": "code",
   "execution_count": 5,
   "id": "5374e331-69d1-4f75-927b-1215ebb6920d",
   "metadata": {},
   "outputs": [],
   "source": [
    "y = df['Gender']"
   ]
  },
  {
   "cell_type": "code",
   "execution_count": 6,
   "id": "e437bb75-e92c-4a34-8bea-eaffebc9a7ff",
   "metadata": {},
   "outputs": [],
   "source": [
    "X_train, X_test, y_train, y_test = train_test_split(X, y, test_size=0.3, stratify=df['Gender'])"
   ]
  },
  {
   "cell_type": "code",
   "execution_count": 7,
   "id": "4ad6484b-21b6-4c4b-a605-0105720bef35",
   "metadata": {},
   "outputs": [
    {
     "name": "stdout",
     "output_type": "stream",
     "text": [
      "Epoch 1/30\n",
      "219/219 [==============================] - 2s 3ms/step - loss: 0.5826 - accuracy: 0.7770 - val_loss: 0.4505 - val_accuracy: 0.8943\n",
      "Epoch 2/30\n",
      "219/219 [==============================] - 0s 2ms/step - loss: 0.4185 - accuracy: 0.9107 - val_loss: 0.3926 - val_accuracy: 0.9153\n",
      "Epoch 3/30\n",
      "219/219 [==============================] - 0s 2ms/step - loss: 0.3754 - accuracy: 0.9180 - val_loss: 0.3597 - val_accuracy: 0.9183\n",
      "Epoch 4/30\n",
      "219/219 [==============================] - 0s 2ms/step - loss: 0.3452 - accuracy: 0.9179 - val_loss: 0.3351 - val_accuracy: 0.9190\n",
      "Epoch 5/30\n",
      "219/219 [==============================] - 0s 2ms/step - loss: 0.3203 - accuracy: 0.9186 - val_loss: 0.3096 - val_accuracy: 0.9190\n",
      "Epoch 6/30\n",
      "219/219 [==============================] - 0s 2ms/step - loss: 0.2998 - accuracy: 0.9174 - val_loss: 0.2916 - val_accuracy: 0.9187\n",
      "Epoch 7/30\n",
      "219/219 [==============================] - 0s 2ms/step - loss: 0.2831 - accuracy: 0.9186 - val_loss: 0.2796 - val_accuracy: 0.9137\n",
      "Epoch 8/30\n",
      "219/219 [==============================] - 0s 2ms/step - loss: 0.2714 - accuracy: 0.9171 - val_loss: 0.2647 - val_accuracy: 0.9190\n",
      "Epoch 9/30\n",
      "219/219 [==============================] - 0s 2ms/step - loss: 0.2601 - accuracy: 0.9173 - val_loss: 0.2557 - val_accuracy: 0.9203\n",
      "Epoch 10/30\n",
      "219/219 [==============================] - 0s 2ms/step - loss: 0.2528 - accuracy: 0.9190 - val_loss: 0.2495 - val_accuracy: 0.9217\n",
      "Epoch 11/30\n",
      "219/219 [==============================] - 0s 2ms/step - loss: 0.2454 - accuracy: 0.9177 - val_loss: 0.2461 - val_accuracy: 0.9200\n",
      "Epoch 12/30\n",
      "219/219 [==============================] - 0s 2ms/step - loss: 0.2395 - accuracy: 0.9186 - val_loss: 0.2467 - val_accuracy: 0.9170\n",
      "Epoch 13/30\n",
      "219/219 [==============================] - 0s 2ms/step - loss: 0.2359 - accuracy: 0.9186 - val_loss: 0.2395 - val_accuracy: 0.9190\n",
      "Epoch 14/30\n",
      "219/219 [==============================] - 0s 2ms/step - loss: 0.2324 - accuracy: 0.9171 - val_loss: 0.2332 - val_accuracy: 0.9207\n",
      "Epoch 15/30\n",
      "219/219 [==============================] - 0s 2ms/step - loss: 0.2295 - accuracy: 0.9179 - val_loss: 0.2315 - val_accuracy: 0.9193\n",
      "Epoch 16/30\n",
      "219/219 [==============================] - 0s 2ms/step - loss: 0.2274 - accuracy: 0.9170 - val_loss: 0.2296 - val_accuracy: 0.9203\n",
      "Epoch 17/30\n",
      "219/219 [==============================] - 0s 2ms/step - loss: 0.2253 - accuracy: 0.9173 - val_loss: 0.2276 - val_accuracy: 0.9193\n",
      "Epoch 18/30\n",
      "219/219 [==============================] - 0s 2ms/step - loss: 0.2238 - accuracy: 0.9183 - val_loss: 0.2271 - val_accuracy: 0.9197\n",
      "Epoch 19/30\n",
      "219/219 [==============================] - 0s 2ms/step - loss: 0.2220 - accuracy: 0.9169 - val_loss: 0.2251 - val_accuracy: 0.9223\n",
      "Epoch 20/30\n",
      "219/219 [==============================] - 0s 2ms/step - loss: 0.2210 - accuracy: 0.9196 - val_loss: 0.2244 - val_accuracy: 0.9193\n",
      "Epoch 21/30\n",
      "219/219 [==============================] - 0s 2ms/step - loss: 0.2199 - accuracy: 0.9174 - val_loss: 0.2252 - val_accuracy: 0.9190\n",
      "Epoch 22/30\n",
      "219/219 [==============================] - 0s 2ms/step - loss: 0.2196 - accuracy: 0.9171 - val_loss: 0.2225 - val_accuracy: 0.9197\n",
      "Epoch 23/30\n",
      "219/219 [==============================] - 0s 2ms/step - loss: 0.2188 - accuracy: 0.9191 - val_loss: 0.2222 - val_accuracy: 0.9190\n",
      "Epoch 24/30\n",
      "219/219 [==============================] - 0s 2ms/step - loss: 0.2184 - accuracy: 0.9186 - val_loss: 0.2228 - val_accuracy: 0.9193\n",
      "Epoch 25/30\n",
      "219/219 [==============================] - 0s 2ms/step - loss: 0.2179 - accuracy: 0.9184 - val_loss: 0.2205 - val_accuracy: 0.9217\n",
      "Epoch 26/30\n",
      "219/219 [==============================] - 0s 2ms/step - loss: 0.2169 - accuracy: 0.9181 - val_loss: 0.2226 - val_accuracy: 0.9163\n",
      "Epoch 27/30\n",
      "219/219 [==============================] - 0s 2ms/step - loss: 0.2171 - accuracy: 0.9186 - val_loss: 0.2212 - val_accuracy: 0.9197\n",
      "Epoch 28/30\n",
      "219/219 [==============================] - 0s 2ms/step - loss: 0.2161 - accuracy: 0.9186 - val_loss: 0.2218 - val_accuracy: 0.9197\n",
      "Epoch 29/30\n",
      "219/219 [==============================] - 0s 2ms/step - loss: 0.2152 - accuracy: 0.9189 - val_loss: 0.2196 - val_accuracy: 0.9193\n",
      "Epoch 30/30\n",
      "219/219 [==============================] - 0s 2ms/step - loss: 0.2151 - accuracy: 0.9177 - val_loss: 0.2257 - val_accuracy: 0.9157\n"
     ]
    },
    {
     "data": {
      "image/png": "[encoded data removed]",
      "text/plain": [
       "<Figure size 640x480 with 1 Axes>"
      ]
     },
     "metadata": {},
     "output_type": "display_data"
    }
   ],
   "source": [
    "network = models.Sequential()\n",
    "network.add(Dense(16, activation='relu', input_shape = (None, 1, 2)))\n",
    "network.add(Dense(14, activation='relu'))\n",
    "network.add(Dense(12, activation='relu'))\n",
    "network.add(Dense(10, activation='relu'))\n",
    "network.add(Dense(8, activation='relu'))\n",
    "network.add(Dense(6, activation='relu'))\n",
    "network.add(Dense(4, activation='relu'))\n",
    "network.add(Dense(2, activation='relu'))\n",
    "network.add(Dense(1, activation='sigmoid'))\n",
    "\n",
    "network.compile(\n",
    "    optimizer='rmsprop', \n",
    "    loss='binary_crossentropy',\n",
    "    metrics=['accuracy']\n",
    ")\n",
    "\n",
    "callbacks = [ModelCheckpoint(filepath=\"Network.h5\", \n",
    "monitor=\"val_loss\", \n",
    "save_best_only=True)]\n",
    "\n",
    "\n",
    "history = network.fit(\n",
    "    X_train, y_train, \n",
    "    epochs=30,\n",
    "    validation_data=(X_test, y_test), \n",
    "    callbacks=callbacks\n",
    ")\n",
    "\n",
    "\n",
    "training_accuracy = history.history['accuracy'] \n",
    "test_accuracy = history.history['val_accuracy']\n",
    "plt.plot(range(1, 30 + 1), training_accuracy, \"r--\") \n",
    "plt.plot(range(1, 30 + 1), test_accuracy, \"b-\")\n",
    "\n",
    "plt.legend([\"Точность на тренировке\",\n",
    "\"Точность на тестировании\"]) \n",
    "plt.xlabel(\"Эпоха\") \n",
    "plt.ylabel(\"Оценка точности\") \n",
    "plt.show();"
   ]
  },
  {
   "cell_type": "code",
   "execution_count": 8,
   "id": "3259c227-20a7-4b48-bf9e-7cbbfa035e59",
   "metadata": {},
   "outputs": [
    {
     "data": {
      "text/plain": [
       "['std_scaler.bin']"
      ]
     },
     "execution_count": 8,
     "metadata": {},
     "output_type": "execute_result"
    }
   ],
   "source": [
    "network.save('Network.h5')\n",
    "dump(scaler, 'std_scaler.bin')"
   ]
  }
 ],
 "metadata": {
  "kernelspec": {
   "display_name": "Python 3 (ipykernel)",
   "language": "python",
   "name": "python3"
  },
  "language_info": {
   "codemirror_mode": {
    "name": "ipython",
    "version": 3
   },
   "file_extension": ".py",
   "mimetype": "text/x-python",
   "name": "python",
   "nbconvert_exporter": "python",
   "pygments_lexer": "ipython3",
   "version": "3.10.4"
  }
 },
 "nbformat": 4,
 "nbformat_minor": 5
}
