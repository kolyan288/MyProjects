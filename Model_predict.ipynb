{
 "cells": [
  {
   "cell_type": "code",
   "execution_count": 1,
   "id": "84a23da7-c588-4763-8663-371713063962",
   "metadata": {},
   "outputs": [],
   "source": [
    "from joblib import load\n",
    "from keras.models import load_model"
   ]
  },
  {
   "cell_type": "code",
   "execution_count": 2,
   "id": "66e02f3d-b31e-438b-8506-c9a405262d13",
   "metadata": {},
   "outputs": [],
   "source": [
    "network = load_model('Network.h5')\n",
    "scaler = load('std_scaler.bin')"
   ]
  },
  {
   "cell_type": "code",
   "execution_count": 3,
   "id": "68e0f27e-043c-4409-887d-5a1427a58872",
   "metadata": {},
   "outputs": [
    {
     "name": "stdout",
     "output_type": "stream",
     "text": [
      "3.184352e-05\n",
      "Женщина\n"
     ]
    },
    {
     "name": "stderr",
     "output_type": "stream",
     "text": [
      "C:\\Users\\smolj\\AppData\\Local\\Programs\\Python\\Python310\\lib\\site-packages\\sklearn\\base.py:450: UserWarning: X does not have valid feature names, but StandardScaler was fitted with feature names\n",
      "  warnings.warn(\n"
     ]
    }
   ],
   "source": [
    "height = 165 # В сантиметрах \n",
    "weight = 48 # В килограммах\n",
    "\n",
    "a = network.predict(scaler.transform([[height, weight]]), verbose=0)[0][0]\n",
    "print(a)\n",
    "if round(a) == 0:\n",
    "    print('Женщина')\n",
    "else: \n",
    "    print('Мужчина')"
   ]
  },
  {
   "cell_type": "code",
   "execution_count": null,
   "id": "1651764c-1f78-45c1-87a7-b24eef10b73a",
   "metadata": {},
   "outputs": [],
   "source": []
  }
 ],
 "metadata": {
  "kernelspec": {
   "display_name": "Python 3 (ipykernel)",
   "language": "python",
   "name": "python3"
  },
  "language_info": {
   "codemirror_mode": {
    "name": "ipython",
    "version": 3
   },
   "file_extension": ".py",
   "mimetype": "text/x-python",
   "name": "python",
   "nbconvert_exporter": "python",
   "pygments_lexer": "ipython3",
   "version": "3.10.4"
  }
 },
 "nbformat": 4,
 "nbformat_minor": 5
}
